{
 "cells": [
  {
   "cell_type": "code",
   "execution_count": 3,
   "id": "6cbd0706-b155-4b5a-86a1-3756823c574f",
   "metadata": {},
   "outputs": [],
   "source": [
    "import os\n",
    "import requests\n",
    "import pandas as pd"
   ]
  },
  {
   "cell_type": "code",
   "execution_count": 4,
   "id": "572397f1-00dd-43ff-b2b8-aa5358bb3b90",
   "metadata": {},
   "outputs": [],
   "source": [
    "api_key = os.getenv(\"API_KEY\")"
   ]
  },
  {
   "cell_type": "code",
   "execution_count": 9,
   "id": "01bd8abe-e23a-44ba-b737-8e2623840342",
   "metadata": {},
   "outputs": [],
   "source": [
    "company_names = [\n",
    "    \"Apple\",\n",
    "    \"Microsoft\",\n",
    "    \"Google\",\n",
    "    \"Meta\",\n",
    "    \"Amazon\",\n",
    "    \"Tesla\",\n",
    "    \"Netflix\",\n",
    "    \"Cisco\",\n",
    "    \"Intel\",\n",
    "    \"Oracle\",\n",
    "    \"Nvidia\",\n",
    "    \"IBM\",\n",
    "    \"Shopify\",\n",
    "    \"Zoom\",\n",
    "    \"Uber\",\n",
    "    \"Twitter\",\n",
    "    \"PayPal\",\n",
    "    \"Adobe\",\n",
    "    \"AMD\",\n",
    "    \"Salesforce\"\n",
    "]\n",
    "params = {\"query\":company_name, \"apikey\":api_key}"
   ]
  },
  {
   "cell_type": "code",
   "execution_count": 10,
   "id": "8d29b116-4470-497e-80f2-73e8ca0c888a",
   "metadata": {},
   "outputs": [
    {
     "name": "stdout",
     "output_type": "stream",
     "text": [
      "Data for Apple fetched and added to list.\n",
      "Data for Microsoft fetched and added to list.\n",
      "Data for Google fetched and added to list.\n",
      "Data for Meta fetched and added to list.\n",
      "Data for Amazon fetched and added to list.\n",
      "Data for Tesla fetched and added to list.\n",
      "Data for Netflix fetched and added to list.\n",
      "Data for Cisco fetched and added to list.\n",
      "Data for Intel fetched and added to list.\n",
      "Data for Oracle fetched and added to list.\n",
      "Data for Nvidia fetched and added to list.\n",
      "Data for IBM fetched and added to list.\n",
      "Data for Shopify fetched and added to list.\n",
      "Data for Zoom fetched and added to list.\n",
      "Data for Uber fetched and added to list.\n",
      "Data for Twitter fetched and added to list.\n",
      "Data for PayPal fetched and added to list.\n",
      "Data for Adobe fetched and added to list.\n",
      "Data for AMD fetched and added to list.\n",
      "Data for Salesforce fetched and added to list.\n"
     ]
    }
   ],
   "source": [
    "appl_compay_data = []\n",
    "\n",
    "for company_name in company_names:\n",
    "    try:\n",
    "        url = f\"https://financialmodelingprep.com/stable/search-name\"\n",
    "        response = requests.get(url, params=params)\n",
    "        \n",
    "        if response.status_code == 200:\n",
    "            resp_json = response.json()\n",
    "            appl_compay_data.extend(resp_json)\n",
    "            print(f\"Data for {company_name} fetched and added to list.\") # can make a log for those later\n",
    "        else:\n",
    "            print(f\"Response not successful for {company_name}. Status code: {response.status_code}\")\n",
    "    \n",
    "    except requests.exceptions.RequestException as e:\n",
    "        print(f\"API call unsuccessful for {company_name}. Error: {e}\")\n"
   ]
  },
  {
   "cell_type": "code",
   "execution_count": 32,
   "id": "b28da36a-b1fe-4629-955f-1926cf0f77f5",
   "metadata": {},
   "outputs": [
    {
     "data": {
      "text/plain": [
       "535"
      ]
     },
     "execution_count": 32,
     "metadata": {},
     "output_type": "execute_result"
    }
   ],
   "source": [
    "len(appl_compay_data)"
   ]
  },
  {
   "cell_type": "code",
   "execution_count": null,
   "id": "256ab871-30c6-4173-ae86-72aad45a2eb9",
   "metadata": {},
   "outputs": [],
   "source": [
    "# next steps:\n",
    "# 📌 Steps to Inspect appl_compay_data's Structure\n",
    "# 1️⃣ Check the type of appl_compay_data\n",
    "# → Confirm it's a list.\n",
    "\n",
    "# 2️⃣ Check how many items are in the list\n",
    "# → See if it's empty or populated as expected.\n",
    "\n",
    "# 3️⃣ Inspect a few individual items\n",
    "# → Look at the first item ([0]), middle item, and last item to see their structure.\n",
    "\n",
    "# 4️⃣ Check the type of each item inside\n",
    "# → Make sure each is a dictionary (JSON object).\n",
    "\n",
    "# 5️⃣ Print the keys of a single item\n",
    "# → See which fields are available inside each JSON object (e.g., 'symbol', 'name', 'currency', etc.).\n",
    "\n",
    "# 6️⃣ Verify consistency\n",
    "# → Confirm that all items have the same keys/structure, or note if some are missing certain fields.\n",
    "\n",
    "# 7️⃣ Decide which fields you want to keep for the DataFrame\n",
    "# → Based on what you see in the keys and values.\n",
    "\n",
    "# 8️⃣ Confirm no nested structures (if so, note them)\n",
    "# → If any values are nested JSON, plan to flatten them before DataFrame creation."
   ]
  }
 ],
 "metadata": {
  "kernelspec": {
   "display_name": "Python 3 (ipykernel)",
   "language": "python",
   "name": "python3"
  },
  "language_info": {
   "codemirror_mode": {
    "name": "ipython",
    "version": 3
   },
   "file_extension": ".py",
   "mimetype": "text/x-python",
   "name": "python",
   "nbconvert_exporter": "python",
   "pygments_lexer": "ipython3",
   "version": "3.12.1"
  }
 },
 "nbformat": 4,
 "nbformat_minor": 5
}
