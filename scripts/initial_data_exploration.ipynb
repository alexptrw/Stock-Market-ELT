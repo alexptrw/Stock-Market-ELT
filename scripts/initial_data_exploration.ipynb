{
 "cells": [
  {
   "cell_type": "code",
   "execution_count": 1,
   "id": "6cbd0706-b155-4b5a-86a1-3756823c574f",
   "metadata": {},
   "outputs": [],
   "source": [
    "import os\n",
    "import requests\n",
    "import pandas as pd\n",
    "import json"
   ]
  },
  {
   "cell_type": "code",
   "execution_count": 2,
   "id": "572397f1-00dd-43ff-b2b8-aa5358bb3b90",
   "metadata": {},
   "outputs": [],
   "source": [
    "api_key = os.getenv(\"API_KEY\")"
   ]
  },
  {
   "cell_type": "code",
   "execution_count": 3,
   "id": "01bd8abe-e23a-44ba-b737-8e2623840342",
   "metadata": {},
   "outputs": [],
   "source": [
    "company_names = [\n",
    "    \"Apple\",\n",
    "    \"Microsoft\",\n",
    "    \"Google\",\n",
    "    \"Meta\",\n",
    "    \"Amazon\",\n",
    "    \"Tesla\",\n",
    "    \"Netflix\",\n",
    "    \"Cisco\",\n",
    "    \"Intel\",\n",
    "    \"Oracle\",\n",
    "    \"Nvidia\",\n",
    "    \"IBM\",\n",
    "    \"Shopify\",\n",
    "    \"Zoom\",\n",
    "    \"Uber\",\n",
    "    \"Twitter\",\n",
    "    \"PayPal\",\n",
    "    \"Adobe\",\n",
    "    \"AMD\",\n",
    "    \"Salesforce\"\n",
    "]\n"
   ]
  },
  {
   "cell_type": "code",
   "execution_count": 4,
   "id": "8d29b116-4470-497e-80f2-73e8ca0c888a",
   "metadata": {},
   "outputs": [
    {
     "name": "stdout",
     "output_type": "stream",
     "text": [
      "Data for Apple fetched and added to list.\n",
      "Data for Microsoft fetched and added to list.\n",
      "Data for Google fetched and added to list.\n",
      "Data for Meta fetched and added to list.\n",
      "Data for Amazon fetched and added to list.\n",
      "Data for Tesla fetched and added to list.\n",
      "Data for Netflix fetched and added to list.\n",
      "Data for Cisco fetched and added to list.\n",
      "Data for Intel fetched and added to list.\n",
      "Data for Oracle fetched and added to list.\n",
      "Data for Nvidia fetched and added to list.\n",
      "Data for IBM fetched and added to list.\n",
      "Data for Shopify fetched and added to list.\n",
      "Data for Zoom fetched and added to list.\n",
      "Data for Uber fetched and added to list.\n",
      "Data for Twitter fetched and added to list.\n",
      "Data for PayPal fetched and added to list.\n",
      "Data for Adobe fetched and added to list.\n",
      "Data for AMD fetched and added to list.\n",
      "Data for Salesforce fetched and added to list.\n"
     ]
    }
   ],
   "source": [
    "compaies_data = []\n",
    "\n",
    "for company_name in company_names:\n",
    "    try:\n",
    "        params = {\"query\":company_name, \"apikey\":api_key}\n",
    "        url = f\"https://financialmodelingprep.com/stable/search-name\"\n",
    "        response = requests.get(url, params=params)\n",
    "        \n",
    "        if response.status_code == 200:\n",
    "            resp_json = response.json()\n",
    "            compaies_data.extend(resp_json)\n",
    "            print(f\"Data for {company_name} fetched and added to list.\") # can make a log for those later\n",
    "        else:\n",
    "            print(f\"Response not successful for {company_name}. Status code: {response.status_code}\")\n",
    "    \n",
    "    except requests.exceptions.RequestException as e:\n",
    "        print(f\"API call unsuccessful for {company_name}. Error: {e}\")\n"
   ]
  },
  {
   "cell_type": "code",
   "execution_count": 5,
   "id": "b28da36a-b1fe-4629-955f-1926cf0f77f5",
   "metadata": {},
   "outputs": [
    {
     "name": "stdout",
     "output_type": "stream",
     "text": [
      "535\n",
      "<class 'list'>\n",
      "{'symbol': 'APC.F', 'name': 'Apple Inc.', 'currency': 'EUR', 'exchangeFullName': 'Frankfurt Stock Exchange', 'exchange': 'XETRA'}\n",
      "{'symbol': 'CRMS.L', 'name': 'Leverage Shares -1x Salesforce.Com ETC', 'currency': 'USD', 'exchangeFullName': 'London Stock Exchange', 'exchange': 'LSE'}\n",
      "{<class 'dict'>}\n",
      "True\n"
     ]
    }
   ],
   "source": [
    "#brief data check before moving to json\n",
    "print(len(compaies_data))\n",
    "print(type(compaies_data))\n",
    "print(compaies_data[0])\n",
    "print(compaies_data[-1])\n",
    "set_type = set()\n",
    "for item in compaies_data:\n",
    "    set_type.add(type(item))\n",
    "print(set_type)\n",
    "\n",
    "is_true = True\n",
    "(len(compaies_data))\n",
    "for i in range(1, len(compaies_data)):\n",
    "    current_key = compaies_data[i-1].keys()\n",
    "    previous_key = compaies_data[i].keys()\n",
    "    if (current_key != previous_key):\n",
    "          print(f\"\\nInconsistency found at index {i}:\")\n",
    "    \n",
    "print(is_true)"
   ]
  },
  {
   "cell_type": "code",
   "execution_count": 6,
   "id": "cdcacec7-2685-4214-a4bb-92b0f6a4f1b3",
   "metadata": {},
   "outputs": [
    {
     "name": "stdout",
     "output_type": "stream",
     "text": [
      "Data successfully saved to companies_data.json\n"
     ]
    }
   ],
   "source": [
    "# output_file = \"companies_data.json\"\n",
    "# with open(output_file, \"w\") as f:\n",
    "#     json.dump(compaies_data, f, indent=4)\n",
    "\n",
    "# print(f\"Data successfully saved to {output_file}\")"
   ]
  },
  {
   "cell_type": "code",
   "execution_count": 13,
   "id": "24f4e51f-bc5f-4614-9a16-0a8f605b3d22",
   "metadata": {},
   "outputs": [
    {
     "name": "stdout",
     "output_type": "stream",
     "text": [
      "Data successfully saved to companies_data.json\n"
     ]
    }
   ],
   "source": [
    "with open(output_file, \"w\") as f:\n",
    "    for record in compaies_data:\n",
    "        f.write(json.dumps(record) + '\\n')\n",
    "print(f\"Data successfully saved to {output_file}\")\n"
   ]
  },
  {
   "cell_type": "code",
   "execution_count": null,
   "id": "10d5a1ca-6bd3-4f06-bbcd-230a6b1563e2",
   "metadata": {},
   "outputs": [],
   "source": []
  }
 ],
 "metadata": {
  "kernelspec": {
   "display_name": "Python 3 (ipykernel)",
   "language": "python",
   "name": "python3"
  },
  "language_info": {
   "codemirror_mode": {
    "name": "ipython",
    "version": 3
   },
   "file_extension": ".py",
   "mimetype": "text/x-python",
   "name": "python",
   "nbconvert_exporter": "python",
   "pygments_lexer": "ipython3",
   "version": "3.12.1"
  }
 },
 "nbformat": 4,
 "nbformat_minor": 5
}
