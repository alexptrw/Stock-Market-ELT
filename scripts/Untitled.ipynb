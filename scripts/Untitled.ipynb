{
 "cells": [
  {
   "cell_type": "code",
   "execution_count": 1,
   "id": "c995aa2b-d82f-4eac-b7b7-b14656467009",
   "metadata": {},
   "outputs": [],
   "source": [
    "import requests\n",
    "import pandas as pd\n",
    "import os"
   ]
  },
  {
   "cell_type": "code",
   "execution_count": 2,
   "id": "132ce302-226b-49b6-8a09-3cd7e9470035",
   "metadata": {},
   "outputs": [],
   "source": [
    "# ?apikey=veTfRR64gMhMQrA0X25kPqarR4KsSGK7"
   ]
  },
  {
   "cell_type": "code",
   "execution_count": 8,
   "id": "95a05ca3-0350-48c2-a39a-390921fad850",
   "metadata": {},
   "outputs": [],
   "source": [
    "api_key = os.getenv(\"API_KEY\")"
   ]
  },
  {
   "cell_type": "code",
   "execution_count": 4,
   "id": "8b998b76-11e7-40e5-8de2-9ee7cd1d7cd7",
   "metadata": {},
   "outputs": [],
   "source": [
    "company_symbol = \"AAPL\""
   ]
  },
  {
   "cell_type": "code",
   "execution_count": 5,
   "id": "d38dd92e-54cc-42eb-bd05-b3e62663ab9d",
   "metadata": {},
   "outputs": [],
   "source": [
    "profile_url = f\"https://financialmodelingprep.com/stable/search-symbol?query={company_symbol}&apikey={api_key}\""
   ]
  },
  {
   "cell_type": "code",
   "execution_count": 6,
   "id": "3d29f8c4-21c4-4c85-a4ae-d2cc041600bb",
   "metadata": {},
   "outputs": [
    {
     "data": {
      "text/plain": [
       "<Response [401]>"
      ]
     },
     "execution_count": 6,
     "metadata": {},
     "output_type": "execute_result"
    }
   ],
   "source": [
    "response = requests.get(profile_url)\n",
    "response"
   ]
  },
  {
   "cell_type": "code",
   "execution_count": 9,
   "id": "ff72f1c5-c29b-4c09-9ca7-284fc47f087d",
   "metadata": {},
   "outputs": [
    {
     "name": "stdout",
     "output_type": "stream",
     "text": [
      "None\n"
     ]
    }
   ],
   "source": [
    "print(api_key)"
   ]
  },
  {
   "cell_type": "code",
   "execution_count": null,
   "id": "3a408fd7-a754-49d7-865f-4866bd52f5ed",
   "metadata": {},
   "outputs": [],
   "source": []
  }
 ],
 "metadata": {
  "kernelspec": {
   "display_name": "Python 3 (ipykernel)",
   "language": "python",
   "name": "python3"
  },
  "language_info": {
   "codemirror_mode": {
    "name": "ipython",
    "version": 3
   },
   "file_extension": ".py",
   "mimetype": "text/x-python",
   "name": "python",
   "nbconvert_exporter": "python",
   "pygments_lexer": "ipython3",
   "version": "3.12.1"
  }
 },
 "nbformat": 4,
 "nbformat_minor": 5
}
